{
 "cells": [
  {
   "cell_type": "markdown",
   "metadata": {},
   "source": [
    "# Project 2"
   ]
  },
  {
   "cell_type": "markdown",
   "metadata": {},
   "source": [
    "# Week 7 | Project - 2\n",
    "Group 4: Joshua Hummell, Jiho Kim, Scott Reed\n",
    "\n"
   ]
  },
  {
   "cell_type": "markdown",
   "metadata": {},
   "source": [
    "1. Identify a large 2-node network dataset—you can start with a dataset in a repository.  Your data should meet the criteria that it consists of ties between and not within two (or more) distinct groups."
   ]
  },
  {
   "cell_type": "markdown",
   "metadata": {},
   "source": [
    "## Data load\n",
    "\n",
    "The first thing we want to do is load the packages and data. The data is from a Facebook-like Forum Network we: [https://toreopsahl.com/datasets/#online_forum_network](https://toreopsahl.com/datasets/#online_forum_network). The data represents an two-mode network among 899 users and 522 topics. The connections are weighted the number of messages or characters that a user posted about a topic.\n"
   ]
  },
  {
   "cell_type": "code",
   "execution_count": 67,
   "metadata": {},
   "outputs": [],
   "source": [
    "import matplotlib.pyplot as plt\n",
    "import networkx as nx\n",
    "from networkx.algorithms import bipartite as bi\n",
    "import pandas as pd\n",
    "import scipy\n",
    "import random"
   ]
  },
  {
   "cell_type": "markdown",
   "metadata": {},
   "source": [
    "Now let's take a look at what we will be working with"
   ]
  },
  {
   "cell_type": "code",
   "execution_count": 26,
   "metadata": {},
   "outputs": [
    {
     "data": {
      "text/html": [
       "<div>\n",
       "<style scoped>\n",
       "    .dataframe tbody tr th:only-of-type {\n",
       "        vertical-align: middle;\n",
       "    }\n",
       "\n",
       "    .dataframe tbody tr th {\n",
       "        vertical-align: top;\n",
       "    }\n",
       "\n",
       "    .dataframe thead th {\n",
       "        text-align: right;\n",
       "    }\n",
       "</style>\n",
       "<table border=\"1\" class=\"dataframe\">\n",
       "  <thead>\n",
       "    <tr style=\"text-align: right;\">\n",
       "      <th></th>\n",
       "      <th>user</th>\n",
       "      <th>topic</th>\n",
       "      <th>weight</th>\n",
       "    </tr>\n",
       "  </thead>\n",
       "  <tbody>\n",
       "    <tr>\n",
       "      <th>0</th>\n",
       "      <td>u1</td>\n",
       "      <td>p1</td>\n",
       "      <td>1</td>\n",
       "    </tr>\n",
       "    <tr>\n",
       "      <th>1</th>\n",
       "      <td>u1</td>\n",
       "      <td>p39</td>\n",
       "      <td>9</td>\n",
       "    </tr>\n",
       "    <tr>\n",
       "      <th>2</th>\n",
       "      <td>u1</td>\n",
       "      <td>p102</td>\n",
       "      <td>2</td>\n",
       "    </tr>\n",
       "    <tr>\n",
       "      <th>3</th>\n",
       "      <td>u1</td>\n",
       "      <td>p154</td>\n",
       "      <td>1</td>\n",
       "    </tr>\n",
       "    <tr>\n",
       "      <th>4</th>\n",
       "      <td>u1</td>\n",
       "      <td>p357</td>\n",
       "      <td>5</td>\n",
       "    </tr>\n",
       "  </tbody>\n",
       "</table>\n",
       "</div>"
      ],
      "text/plain": [
       "  user topic  weight\n",
       "0   u1    p1       1\n",
       "1   u1   p39       9\n",
       "2   u1  p102       2\n",
       "3   u1  p154       1\n",
       "4   u1  p357       5"
      ]
     },
     "execution_count": 26,
     "metadata": {},
     "output_type": "execute_result"
    }
   ],
   "source": [
    "SN_Data = pd.read_csv(\"https://raw.githubusercontent.com/jhumms/620/main/project-2/social_network_data.csv\")\n",
    "SN_Data['user'] = 'u' + SN_Data['user'].astype(str)\n",
    "SN_Data['topic'] = 'p' + SN_Data['topic'].astype(str)\n",
    "SN_Data.head()"
   ]
  },
  {
   "cell_type": "code",
   "execution_count": 27,
   "metadata": {},
   "outputs": [],
   "source": [
    "## Creating the Network\n",
    "G = nx.Graph()\n",
    "G.add_nodes_from(SN_Data['user'], bipartite=0)\n",
    "G.add_nodes_from(SN_Data['topic'], bipartite=1)\n",
    "G.add_weighted_edges_from([d for d in SN_Data[['user','topic','weight']].values])"
   ]
  },
  {
   "cell_type": "code",
   "execution_count": 28,
   "metadata": {},
   "outputs": [
    {
     "data": {
      "text/plain": [
       "False"
      ]
     },
     "execution_count": 28,
     "metadata": {},
     "output_type": "execute_result"
    }
   ],
   "source": [
    "nx.is_connected(G)"
   ]
  },
  {
   "cell_type": "code",
   "execution_count": 29,
   "metadata": {},
   "outputs": [
    {
     "data": {
      "text/plain": [
       "True"
      ]
     },
     "execution_count": 29,
     "metadata": {},
     "output_type": "execute_result"
    }
   ],
   "source": [
    "bi.is_bipartite(G)"
   ]
  },
  {
   "cell_type": "code",
   "execution_count": 31,
   "metadata": {},
   "outputs": [
    {
     "data": {
      "image/png": "[encoded data removed]",
      "text/plain": [
       "<Figure size 720x720 with 1 Axes>"
      ]
     },
     "metadata": {},
     "output_type": "display_data"
    }
   ],
   "source": [
    "plt.figure(figsize=(10,10))\n",
    "pos = nx.spring_layout(G, seed=648)  # Seed layout for reproducible node positions\n",
    "nx.draw(G, pos, with_labels=False)\n",
    "plt.show()"
   ]
  },
  {
   "cell_type": "code",
   "execution_count": 32,
   "metadata": {},
   "outputs": [
    {
     "name": "stdout",
     "output_type": "stream",
     "text": [
      "It has Nodes: 1421  and Edges: 7089\n"
     ]
    }
   ],
   "source": [
    "print(\"It has Nodes:\",len(G.nodes), \" and Edges:\",len(G.edges))"
   ]
  },
  {
   "cell_type": "code",
   "execution_count": 33,
   "metadata": {},
   "outputs": [
    {
     "name": "stdout",
     "output_type": "stream",
     "text": [
      "The Density is: 0.007\n"
     ]
    }
   ],
   "source": [
    "print(\"The Density is:\", round(nx.density(G),4))"
   ]
  },
  {
   "cell_type": "code",
   "execution_count": 35,
   "metadata": {},
   "outputs": [
    {
     "name": "stdout",
     "output_type": "stream",
     "text": [
      "Are they all connected? False\n"
     ]
    }
   ],
   "source": [
    "print(\"Are they all connected?\",nx.is_connected(G))"
   ]
  },
  {
   "cell_type": "code",
   "execution_count": 36,
   "metadata": {},
   "outputs": [],
   "source": [
    "# Nodes\n",
    "user_nodes = {n for n, d in G.nodes(data=True) if d['bipartite']==0}\n",
    "page_nodes = set(G) - user_nodes"
   ]
  },
  {
   "cell_type": "code",
   "execution_count": 37,
   "metadata": {},
   "outputs": [
    {
     "data": {
      "text/plain": [
       "True"
      ]
     },
     "execution_count": 37,
     "metadata": {},
     "output_type": "execute_result"
    }
   ],
   "source": [
    "bi.is_bipartite(G)"
   ]
  },
  {
   "cell_type": "code",
   "execution_count": 38,
   "metadata": {},
   "outputs": [
    {
     "name": "stdout",
     "output_type": "stream",
     "text": [
      "The User Nodes density is: 0.0151\n"
     ]
    }
   ],
   "source": [
    "print(\"The User Nodes density is:\",round(bi.density(G, user_nodes),4))"
   ]
  },
  {
   "cell_type": "code",
   "execution_count": 39,
   "metadata": {},
   "outputs": [
    {
     "name": "stdout",
     "output_type": "stream",
     "text": [
      "The User Page density is: 0.0151\n"
     ]
    }
   ],
   "source": [
    "print(\"The User Page density is:\",round(bi.density(G, page_nodes),4))"
   ]
  },
  {
   "cell_type": "markdown",
   "metadata": {},
   "source": [
    "Now let's get the Degree Centrality as well as some other measures."
   ]
  },
  {
   "cell_type": "code",
   "execution_count": 40,
   "metadata": {},
   "outputs": [
    {
     "data": {
      "text/plain": [
       "[('p10', 126),\n",
       " ('p13', 117),\n",
       " ('u67', 99),\n",
       " ('p82', 96),\n",
       " ('p12', 92),\n",
       " ('u100', 88),\n",
       " ('u164', 84),\n",
       " ('p59', 82),\n",
       " ('p75', 82),\n",
       " ('p91', 79)]"
      ]
     },
     "execution_count": 40,
     "metadata": {},
     "output_type": "execute_result"
    }
   ],
   "source": [
    "sorted(G.degree, key=lambda x: x[1], reverse=True)[0:10]"
   ]
  },
  {
   "cell_type": "code",
   "execution_count": 41,
   "metadata": {},
   "outputs": [
    {
     "data": {
      "text/plain": [
       "[('u100', 0.3803909664885867),\n",
       " ('p13', 0.3770390567705297),\n",
       " ('u67', 0.37693840566087394),\n",
       " ('p10', 0.3710936314338065),\n",
       " ('u290', 0.3696364574883858)]"
      ]
     },
     "execution_count": 41,
     "metadata": {},
     "output_type": "execute_result"
    }
   ],
   "source": [
    "#closeness\n",
    "closeness = nx.closeness_centrality(G)\n",
    "sorted(closeness.items(), key=lambda x: x[1], reverse = True)[:5]"
   ]
  },
  {
   "cell_type": "code",
   "execution_count": 42,
   "metadata": {},
   "outputs": [
    {
     "data": {
      "text/plain": [
       "[('p10', 0.06320763139922769),\n",
       " ('p13', 0.06161931665609316),\n",
       " ('u67', 0.0560992693991688),\n",
       " ('u100', 0.04718668545540714),\n",
       " ('p82', 0.04472001062982433)]"
      ]
     },
     "execution_count": 42,
     "metadata": {},
     "output_type": "execute_result"
    }
   ],
   "source": [
    "#betweenness\n",
    "betweenness = nx.betweenness_centrality(G)\n",
    "sorted(betweenness.items(), key=lambda x: x[1], reverse = True)[:5]"
   ]
  },
  {
   "cell_type": "code",
   "execution_count": 43,
   "metadata": {},
   "outputs": [
    {
     "data": {
      "text/plain": [
       "[('u100', 0.01842003173143345),\n",
       " ('p82', 0.010681111172635711),\n",
       " ('u67', 0.010061151430456248),\n",
       " ('p13', 0.009371136768806894),\n",
       " ('p59', 0.008654844629259141)]"
      ]
     },
     "execution_count": 43,
     "metadata": {},
     "output_type": "execute_result"
    }
   ],
   "source": [
    "#pagerank\n",
    "pagerank = nx.pagerank(G)\n",
    "sorted(pagerank.items(), key=lambda x: x[1], reverse = True)[:5]"
   ]
  },
  {
   "cell_type": "markdown",
   "metadata": {},
   "source": [
    "We can see that there are several common users and pages"
   ]
  },
  {
   "cell_type": "markdown",
   "metadata": {},
   "source": [
    "2. Reduce the size of the network using a method such as the island method described in chapter 4 of social network analysis."
   ]
  },
  {
   "cell_type": "markdown",
   "metadata": {},
   "source": [
    "Let's take a look at the number of connections:"
   ]
  },
  {
   "cell_type": "code",
   "execution_count": 45,
   "metadata": {},
   "outputs": [
    {
     "data": {
      "text/plain": [
       "[<matplotlib.lines.Line2D at 0x20be09c7fd0>]"
      ]
     },
     "execution_count": 45,
     "metadata": {},
     "output_type": "execute_result"
    },
    {
     "data": {
      "image/png": "[encoded data removed]",
      "text/plain": [
       "<Figure size 432x288 with 1 Axes>"
      ]
     },
     "metadata": {
      "needs_background": "light"
     },
     "output_type": "display_data"
    }
   ],
   "source": [
    "plt.plot(nx.degree_histogram(G))"
   ]
  },
  {
   "cell_type": "markdown",
   "metadata": {},
   "source": [
    "It looks like the best place for islands will be after 60"
   ]
  },
  {
   "cell_type": "code",
   "execution_count": 58,
   "metadata": {},
   "outputs": [],
   "source": [
    "def trim_edges(g, weight=1):\n",
    "    g2=nx.Graph()  \n",
    "    my_list=[]\n",
    "    my_list1=[]\n",
    "    for f, to, edata in g.edges(data=True): \n",
    "        if edata['weight'] > weight:\n",
    "            my_list.append(f)\n",
    "            my_list1.append(to)\n",
    "            g2.add_edge(f,to,attr_dict={weight:edata['weight']})\n",
    "    g2.add_nodes_from(my_list, bipartite=0)\n",
    "    g2.add_nodes_from(my_list1, bipartite=1)\n",
    "    return g2"
   ]
  },
  {
   "cell_type": "code",
   "execution_count": 59,
   "metadata": {},
   "outputs": [],
   "source": [
    "def island_method(g, iterations=5, weight=1):\n",
    "    weights = [edata['weight'] for f, to, edata in g.edges(data=True)]\n",
    "    mn=int(min(weights)) if int(min(weights)) > weight else weight\n",
    "    mx=int(max(weights))\n",
    "    #compute the size of the step, so we get a reasonable step in iterations\n",
    "    step=int((mx-mn)/(iterations-1))\n",
    "    return [[threshold, trim_edges(g, threshold)] for threshold in range(mn,mx,step)]\n"
   ]
  },
  {
   "cell_type": "code",
   "execution_count": 78,
   "metadata": {},
   "outputs": [
    {
     "name": "stdout",
     "output_type": "stream",
     "text": [
      "Weight: 5 Nodes: 681 Subgraphs: 5\n",
      "Weight: 46 Nodes: 41 Subgraphs: 7\n",
      "Weight: 87 Nodes: 11 Subgraphs: 5\n",
      "Weight: 128 Nodes: 4 Subgraphs: 2\n",
      "Weight: 169 Nodes: 2 Subgraphs: 1\n"
     ]
    }
   ],
   "source": [
    "# Running function for 5 iterations and a minimum weight of 5\n",
    "islands = island_method(G, 5,5)\n",
    "for i in islands:\n",
    "    threshold = i[0]\n",
    "    graph_size = len(i[1])\n",
    "    connected_comp = len(list(G.subgraph(c) for c in nx.connected_components(i[1])))\n",
    "    print(\"Weight: \" + str(threshold), \"Nodes: \" + str(graph_size), \"Subgraphs: \" + str(connected_comp)\n",
    "          )"
   ]
  },
  {
   "cell_type": "markdown",
   "metadata": {},
   "source": [
    "Now lets take a look at the 2nd 3rd and 4th largest graphs"
   ]
  },
  {
   "cell_type": "code",
   "execution_count": 85,
   "metadata": {},
   "outputs": [
    {
     "name": "stdout",
     "output_type": "stream",
     "text": [
      "Blue for Users | Red for Pages\n"
     ]
    },
    {
     "data": {
      "image/png": "[encoded data removed]",
      "text/plain": [
       "<Figure size 720x720 with 1 Axes>"
      ]
     },
     "metadata": {},
     "output_type": "display_data"
    }
   ],
   "source": [
    "G1=islands[1][1]\n",
    "\n",
    "plt.figure(figsize=(10,10))\n",
    "print(\"Blue for Users | Red for Pages\")\n",
    "colors = [\"blue\" if i in user_nodes  else \"red\" for i in G1.nodes]\n",
    "pos = nx.spring_layout(G1, seed=648)  # Seed layout for reproducible node positions\n",
    "nx.draw(G1, pos, with_labels=True, node_color=colors)\n",
    "plt.show()"
   ]
  },
  {
   "cell_type": "code",
   "execution_count": 84,
   "metadata": {},
   "outputs": [
    {
     "name": "stdout",
     "output_type": "stream",
     "text": [
      "Blue for Users | Red for Pages\n"
     ]
    },
    {
     "data": {
      "image/png": "[encoded data removed]",
      "text/plain": [
       "<Figure size 720x720 with 1 Axes>"
      ]
     },
     "metadata": {},
     "output_type": "display_data"
    }
   ],
   "source": [
    "G1=islands[2][1]\n",
    "\n",
    "plt.figure(figsize=(10,10))\n",
    "print(\"Blue for Users | Red for Pages\")\n",
    "colors = [\"blue\" if i in user_nodes  else \"red\" for i in G1.nodes]\n",
    "pos = nx.spring_layout(G1, seed=648)  # Seed layout for reproducible node positions\n",
    "nx.draw(G1, pos, with_labels=True, node_color=colors)\n",
    "plt.show()"
   ]
  },
  {
   "cell_type": "code",
   "execution_count": 83,
   "metadata": {},
   "outputs": [
    {
     "name": "stdout",
     "output_type": "stream",
     "text": [
      "Blue for Users | Red for Pages\n"
     ]
    },
    {
     "data": {
      "image/png": "[encoded data removed]",
      "text/plain": [
       "<Figure size 720x720 with 1 Axes>"
      ]
     },
     "metadata": {},
     "output_type": "display_data"
    }
   ],
   "source": [
    "G1=islands[3][1]\n",
    "\n",
    "plt.figure(figsize=(10,10))\n",
    "print(\"Blue for Users | Red for Pages\")\n",
    "colors = [\"blue\" if i in user_nodes  else \"red\" for i in G1.nodes]\n",
    "pos = nx.spring_layout(G1, seed=648)  # Seed layout for reproducible node positions\n",
    "nx.draw(G1, pos, with_labels=True, node_color=colors)\n",
    "plt.show()"
   ]
  },
  {
   "cell_type": "code",
   "execution_count": null,
   "metadata": {},
   "outputs": [],
   "source": []
  }
 ],
 "metadata": {
  "kernelspec": {
   "display_name": "Python 3",
   "language": "python",
   "name": "python3"
  },
  "language_info": {
   "codemirror_mode": {
    "name": "ipython",
    "version": 3
   },
   "file_extension": ".py",
   "mimetype": "text/x-python",
   "name": "python",
   "nbconvert_exporter": "python",
   "pygments_lexer": "ipython3",
   "version": "3.8.5"
  }
 },
 "nbformat": 4,
 "nbformat_minor": 4
}
